{
 "cells": [
  {
   "cell_type": "code",
   "execution_count": 1,
   "id": "01ea614d",
   "metadata": {},
   "outputs": [],
   "source": [
    "import numpy as np\n",
    "np.set_printoptions(precision=4)"
   ]
  },
  {
   "cell_type": "code",
   "execution_count": 2,
   "id": "79e0a92c",
   "metadata": {},
   "outputs": [],
   "source": [
    "W_0 = np.array([[0, 1, -1],\n",
    "                [1, 1, 0]], dtype=float)"
   ]
  },
  {
   "cell_type": "code",
   "execution_count": 3,
   "id": "e66839dc",
   "metadata": {},
   "outputs": [],
   "source": [
    "W_1 = np.array([[1, 1, 0,],\n",
    "                [0, -1, 1]], dtype=float)"
   ]
  },
  {
   "cell_type": "code",
   "execution_count": 4,
   "id": "50371761",
   "metadata": {},
   "outputs": [],
   "source": [
    "X = np.array([[1, 1],\n",
    "              [0, -1]], dtype=float)"
   ]
  },
  {
   "cell_type": "code",
   "execution_count": 5,
   "id": "6d989bcc",
   "metadata": {},
   "outputs": [],
   "source": [
    "f_1 = 'Tanh'\n",
    "f_2 = 'Tanh'"
   ]
  },
  {
   "cell_type": "code",
   "execution_count": 6,
   "id": "1d2fc18d",
   "metadata": {},
   "outputs": [],
   "source": [
    "def Sigmoid(x):\n",
    "    return 1/(1 + np.exp(-x))\n",
    "\n",
    "def Tanh(x):\n",
    "    return (1 - np.exp(-x))/(1 + np.exp(-x))\n",
    "\n",
    "def ReLU(x):\n",
    "    return np.array([max(i, 0) for i in x])\n",
    "\n",
    "def Lin(x):\n",
    "    return x\n",
    "\n",
    "def activation(Z, fcn='Lin'):\n",
    "    A = np.array(list(map(globals()[fcn], Z)))\n",
    "    return A"
   ]
  },
  {
   "cell_type": "markdown",
   "id": "69dcdf4e",
   "metadata": {},
   "source": [
    "### Forward pass"
   ]
  },
  {
   "cell_type": "code",
   "execution_count": 7,
   "id": "96f032e9",
   "metadata": {},
   "outputs": [
    {
     "name": "stdout",
     "output_type": "stream",
     "text": [
      "Pad bias at top of input\n",
      "[[ 1.  1.]\n",
      " [ 1.  1.]\n",
      " [ 0. -1.]]\n",
      "\n",
      "\n",
      "Input -> Hidden\n",
      "Z_1 = array([[1., 2.],\n",
      "       [2., 2.]])\n",
      "\n",
      "A_1 = array([[0.4621, 0.7616],\n",
      "       [0.7616, 0.7616]])\n",
      "\n",
      "\n",
      "Hidden -> Output\n",
      "Z_2 = array([[1.4621, 1.7616],\n",
      "       [0.2995, 0.    ]])\n",
      "\n",
      "A_2 = array([[0.6237, 0.7068],\n",
      "       [0.1486, 0.    ]])\n"
     ]
    }
   ],
   "source": [
    "print('Pad bias at top of input')\n",
    "A_0 = np.vstack((np.ones((1, X.shape[1])), X))\n",
    "print(A_0)\n",
    "\n",
    "print('\\n\\nInput -> Hidden')\n",
    "Z_1 = W_0 @ A_0\n",
    "print(f'{Z_1 = }', end='\\n\\n')\n",
    "A_1 = activation(Z_1, f_1)  \n",
    "print(f'{A_1 = }')\n",
    "\n",
    "print('\\n\\nHidden -> Output')\n",
    "Z_2 = W_1 @ np.vstack((np.ones((1, A_1.shape[1])), A_1))\n",
    "print(f'{Z_2 = }', end='\\n\\n')\n",
    "A_2 = activation(Z_2, f_2)  \n",
    "print(f'{A_2 = }')"
   ]
  },
  {
   "cell_type": "code",
   "execution_count": null,
   "id": "ac583d0a",
   "metadata": {},
   "outputs": [],
   "source": []
  }
 ],
 "metadata": {
  "kernelspec": {
   "display_name": "Python 3 (ipykernel)",
   "language": "python",
   "name": "python3"
  },
  "language_info": {
   "codemirror_mode": {
    "name": "ipython",
    "version": 3
   },
   "file_extension": ".py",
   "mimetype": "text/x-python",
   "name": "python",
   "nbconvert_exporter": "python",
   "pygments_lexer": "ipython3",
   "version": "3.11.5"
  }
 },
 "nbformat": 4,
 "nbformat_minor": 5
}
