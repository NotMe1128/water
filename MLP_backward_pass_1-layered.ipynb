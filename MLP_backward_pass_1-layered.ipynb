{
 "cells": [
  {
   "cell_type": "code",
   "execution_count": 68,
   "id": "01ea614d",
   "metadata": {},
   "outputs": [],
   "source": [
    "import numpy as np\n",
    "np.set_printoptions(precision=4)"
   ]
  },
  {
   "cell_type": "code",
   "execution_count": 69,
   "id": "79e0a92c",
   "metadata": {},
   "outputs": [],
   "source": [
    "W_0 = np.array([[1, 1, 1, 1],], dtype=float)"
   ]
  },
  {
   "cell_type": "code",
   "execution_count": 70,
   "id": "50371761",
   "metadata": {},
   "outputs": [],
   "source": [
    "X = np.array([[1, 1, 1],\n",
    "              [2, 2, 3],\n",
    "              [3, 3, 3]], dtype=float)"
   ]
  },
  {
   "cell_type": "code",
   "execution_count": 71,
   "id": "0ec697a3",
   "metadata": {},
   "outputs": [],
   "source": [
    "t = np.array([[1, 1, 1],], dtype=float)"
   ]
  },
  {
   "cell_type": "code",
   "execution_count": 72,
   "id": "6d989bcc",
   "metadata": {},
   "outputs": [],
   "source": [
    "f_1 = 'Sigmoid'"
   ]
  },
  {
   "cell_type": "code",
   "execution_count": 73,
   "id": "252fe542",
   "metadata": {},
   "outputs": [],
   "source": [
    "lr = 1"
   ]
  },
  {
   "cell_type": "code",
   "execution_count": 1,
   "id": "1d2fc18d",
   "metadata": {},
   "outputs": [],
   "source": [
    "def Sigmoid(x, direction):\n",
    "    if direction == 'F':\n",
    "        return 1/(1 + np.exp(-x))\n",
    "    else:\n",
    "        return Sigmoid(x, 'F')*(1-Sigmoid(x, 'F'))\n",
    "\n",
    "def Tanh(x, direction):\n",
    "    if direction == 'F':\n",
    "        return (1 - np.exp(-x))/(1 + np.exp(-x))\n",
    "    else:\n",
    "        return 0.5*(1-Tanh(x, 'F')**2) \n",
    "\n",
    "def ReLU(x, direction):\n",
    "    if direction == 'F':\n",
    "        return max(x, 0)\n",
    "    else:\n",
    "        return float(x > 0)\n",
    "\n",
    "def Lin(x, direction):\n",
    "    if direction == 'F':\n",
    "        return x\n",
    "    else:\n",
    "        return 1\n",
    "\n",
    "def activation(Z, fcn='Lin', direction = 'F'):\n",
    "    A = np.array(list(map(globals()[fcn], Z, np.repeat(direction, Z.shape[0]))))\n",
    "    return A"
   ]
  },
  {
   "cell_type": "code",
   "execution_count": 75,
   "id": "4d0c8bfc",
   "metadata": {},
   "outputs": [],
   "source": [
    "MAX_EPOCHS = 1"
   ]
  },
  {
   "cell_type": "code",
   "execution_count": 88,
   "id": "96f032e9",
   "metadata": {},
   "outputs": [
    {
     "name": "stdout",
     "output_type": "stream",
     "text": [
      "Pad bias at top of input\n",
      "[[1. 1. 1.]\n",
      " [1. 1. 1.]\n",
      " [2. 2. 3.]\n",
      " [3. 3. 3.]]\n",
      "\n",
      "EPOCH- 1 ================================================================================\n",
      "\n",
      "ITER- 1 --------------------------------------------------------------------------------\n",
      "Input -> Output\n",
      "Z_1 = array([7.0002])\n",
      "A_1 = array([0.9991])\n",
      "\n",
      "Output -> Input\n",
      "Error = array([[4.1481e-07, 4.1481e-07, 4.1481e-07]])\n",
      "dE_dw = array([-8.2886e-07, -8.2886e-07, -1.6577e-06, -2.4866e-06])\n",
      "W_0 = array([[1.    , 1.    , 1.    , 1.0001]])\n",
      "\n",
      "ITER- 2 --------------------------------------------------------------------------------\n",
      "Input -> Output\n",
      "Z_1 = array([7.0003])\n",
      "A_1 = array([0.9991])\n",
      "\n",
      "Output -> Input\n",
      "Error = array([[4.148e-07, 4.148e-07, 4.148e-07]])\n",
      "dE_dw = array([-8.2884e-07, -8.2884e-07, -1.6577e-06, -2.4865e-06])\n",
      "W_0 = array([[1.    , 1.    , 1.    , 1.0001]])\n",
      "\n",
      "ITER- 3 --------------------------------------------------------------------------------\n",
      "Input -> Output\n",
      "Z_1 = array([8.0003])\n",
      "A_1 = array([0.9997])\n",
      "\n",
      "Output -> Input\n",
      "Error = array([[5.6196e-08, 5.6196e-08, 5.6196e-08]])\n",
      "dE_dw = array([-1.1235e-07, -1.1235e-07, -3.3706e-07, -3.3706e-07])\n",
      "W_0 = array([[1.    , 1.    , 1.    , 1.0001]])\n"
     ]
    }
   ],
   "source": [
    "print('Pad bias at top of input')\n",
    "A_0 = np.vstack((np.ones((1, X.shape[1])), X))\n",
    "print(A_0)\n",
    "for ep in range(MAX_EPOCHS):\n",
    "    print('\\nEPOCH-', ep+1, '='*80)\n",
    "    for itr, (x, y) in enumerate(zip(A_0.T, t.T)):\n",
    "        print('\\nITER-', itr+1, '-'*80)\n",
    "        ### Forward pass\n",
    "        print('Input -> Output')\n",
    "        Z_1 = W_0 @ x\n",
    "        print(f'{Z_1 = }')\n",
    "        A_1 = activation(Z_1, f_1)  \n",
    "        print(f'{A_1 = }')\n",
    "        \n",
    "        ### Backward pass\n",
    "        print('\\nOutput -> Input')\n",
    "        Error = 0.5*(A_1 - t)**2\n",
    "        print(f'{Error = }')\n",
    "        dE_dw = (A_1 - y) * activation(Z_1, f_1, 'B') * x\n",
    "        print(f'{dE_dw = }')\n",
    "        W_0 = W_0 - lr*dE_dw\n",
    "        print(f'{W_0 = }')"
   ]
  }
 ],
 "metadata": {
  "kernelspec": {
   "display_name": "Python 3 (ipykernel)",
   "language": "python",
   "name": "python3"
  },
  "language_info": {
   "codemirror_mode": {
    "name": "ipython",
    "version": 3
   },
   "file_extension": ".py",
   "mimetype": "text/x-python",
   "name": "python",
   "nbconvert_exporter": "python",
   "pygments_lexer": "ipython3",
   "version": "3.11.5"
  }
 },
 "nbformat": 4,
 "nbformat_minor": 5
}
