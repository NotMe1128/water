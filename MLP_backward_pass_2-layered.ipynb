{
 "cells": [
  {
   "cell_type": "code",
   "execution_count": 117,
   "id": "01ea614d",
   "metadata": {},
   "outputs": [],
   "source": [
    "import numpy as np\n",
    "np.set_printoptions(precision=4)"
   ]
  },
  {
   "cell_type": "code",
   "execution_count": 118,
   "id": "79e0a92c",
   "metadata": {},
   "outputs": [],
   "source": [
    "W_0 = np.array([[0, 0, 0],\n",
    "                [0, 0, 0]], dtype=float)"
   ]
  },
  {
   "cell_type": "code",
   "execution_count": 119,
   "id": "972991eb",
   "metadata": {},
   "outputs": [],
   "source": [
    "W_1 = np.array([[0, 0, 0],], dtype=float)"
   ]
  },
  {
   "cell_type": "code",
   "execution_count": 120,
   "id": "50371761",
   "metadata": {},
   "outputs": [],
   "source": [
    "X = np.array([[1, 1, -1],\n",
    "              [-1, 1, 0],], dtype=float)"
   ]
  },
  {
   "cell_type": "code",
   "execution_count": 121,
   "id": "0ec697a3",
   "metadata": {},
   "outputs": [],
   "source": [
    "t = np.array([[1, 0, 1],], dtype=float)"
   ]
  },
  {
   "cell_type": "code",
   "execution_count": 122,
   "id": "6d989bcc",
   "metadata": {},
   "outputs": [],
   "source": [
    "f_1 = 'Sigmoid'\n",
    "f_2 = 'Sigmoid'"
   ]
  },
  {
   "cell_type": "code",
   "execution_count": 123,
   "id": "252fe542",
   "metadata": {},
   "outputs": [],
   "source": [
    "lr = 1"
   ]
  },
  {
   "cell_type": "code",
   "execution_count": 124,
   "id": "1d2fc18d",
   "metadata": {},
   "outputs": [],
   "source": [
    "def Sigmoid(x, direction='F'):\n",
    "    if direction == 'F':\n",
    "        return 1/(1 + np.exp(-x))\n",
    "    else:\n",
    "        return Sigmoid(x, 'F')*(1-Sigmoid(x, 'F'))\n",
    "\n",
    "def Tanh(x, direction):\n",
    "    if direction == 'F':\n",
    "        return (1 - np.exp(-x))/(1 + np.exp(-x))\n",
    "    else:\n",
    "        return 0.5*(1-Tanh(x, 'F')**2) \n",
    "\n",
    "def ReLU(x, direction):\n",
    "    if direction == 'F':\n",
    "        return max(x, 0)\n",
    "    else:\n",
    "        return float(x > 0)\n",
    "\n",
    "def Lin(x, direction):\n",
    "    if direction == 'F':\n",
    "        return x\n",
    "    else:\n",
    "        return 1\n",
    "\n",
    "def activation(Z, fcn='Lin', direction = 'F'):\n",
    "    A = np.array(list(map(globals()[fcn], Z, np.repeat(direction, Z.shape[0]))))\n",
    "    return A"
   ]
  },
  {
   "cell_type": "code",
   "execution_count": 125,
   "id": "4d0c8bfc",
   "metadata": {},
   "outputs": [],
   "source": [
    "MAX_EPOCHS = 1"
   ]
  },
  {
   "cell_type": "code",
   "execution_count": 126,
   "id": "96f032e9",
   "metadata": {},
   "outputs": [
    {
     "name": "stdout",
     "output_type": "stream",
     "text": [
      "Pad bias at top of input\n",
      "[[ 1.  1.  1.]\n",
      " [ 1.  1. -1.]\n",
      " [-1.  1.  0.]]\n",
      "\n",
      "EPOCH- 1 ================================================================================\n",
      "\n",
      "ITER- 1 --------------------------------------------------------------------------------\n",
      "\n",
      " Input -> Hidden\n",
      "Z_1 = array([0., 0.])\n",
      "A_1 = array([0.5, 0.5])\n",
      "\n",
      " Hidden -> Output\n",
      "Z_2 = array([[0.]])\n",
      "A_2 = array([[0.5]])\n",
      "\n",
      "Error = array([[0.125]])\n",
      "\n",
      " Output -> Hidden\n",
      "dE_dw1 = array([[-0.125, -0.125,  0.125]])\n",
      "\n",
      " Hidden -> Input\n",
      "dE_dw0 = array([[0., 0., 0.],\n",
      "       [0., 0., 0.]])\n",
      "W_1 = array([[ 0.125,  0.125, -0.125]])\n",
      "W_0 = array([[0., 0., 0.],\n",
      "       [0., 0., 0.]])\n",
      "\n",
      "ITER- 2 --------------------------------------------------------------------------------\n",
      "\n",
      " Input -> Hidden\n",
      "Z_1 = array([0., 0.])\n",
      "A_1 = array([0.5, 0.5])\n",
      "\n",
      " Hidden -> Output\n",
      "Z_2 = array([[0.125]])\n",
      "A_2 = array([[0.5312]])\n",
      "\n",
      "Error = array([[0.1411]])\n",
      "\n",
      " Output -> Hidden\n",
      "dE_dw1 = array([[0.1323, 0.1323, 0.1323]])\n",
      "\n",
      " Hidden -> Input\n",
      "dE_dw0 = array([[ 0.0041,  0.0041, -0.0041],\n",
      "       [ 0.0041,  0.0041, -0.0041]])\n",
      "W_1 = array([[-0.0073, -0.0073, -0.2573]])\n",
      "W_0 = array([[-0.0041, -0.0041,  0.0041],\n",
      "       [-0.0041, -0.0041,  0.0041]])\n",
      "\n",
      "ITER- 3 --------------------------------------------------------------------------------\n",
      "\n",
      " Input -> Hidden\n",
      "Z_1 = array([0., 0.])\n",
      "A_1 = array([0.5, 0.5])\n",
      "\n",
      " Hidden -> Output\n",
      "Z_2 = array([[-0.1396]])\n",
      "A_2 = array([[0.4652]])\n",
      "\n",
      "Error = array([[0.143]])\n",
      "\n",
      " Output -> Hidden\n",
      "dE_dw1 = array([[-0.1331,  0.1331, -0.    ]])\n",
      "\n",
      " Hidden -> Input\n",
      "dE_dw0 = array([[-0.0002, -0.0002, -0.0086],\n",
      "       [ 0.    ,  0.    ,  0.    ]])\n",
      "W_1 = array([[ 0.1258, -0.1403, -0.2573]])\n",
      "W_0 = array([[-0.0039, -0.0039,  0.0127],\n",
      "       [-0.0041, -0.0041,  0.0041]])\n"
     ]
    }
   ],
   "source": [
    "print('Pad bias at top of input')\n",
    "A_0 = np.vstack((np.ones((1, X.shape[1])), X))\n",
    "print(A_0)\n",
    "for ep in range(MAX_EPOCHS):\n",
    "    print('\\nEPOCH-', ep+1, '='*80)\n",
    "    for itr, (x, y) in enumerate(zip(A_0.T, t.T)):\n",
    "        print('\\nITER-', itr+1, '-'*80)\n",
    "        ### Forward pass (Input -> Hidden)\n",
    "        print('\\n Input -> Hidden')\n",
    "        Z_1 = W_0 @ x\n",
    "        print(f'{Z_1 = }')\n",
    "        A_1 = activation(Z_1, f_1)  \n",
    "        print(f'{A_1 = }')\n",
    "        ### Forward pass (Hidden -> Output)\n",
    "        print('\\n Hidden -> Output')\n",
    "        Z_2 = W_1 @ np.vstack((np.ones((1, A_1.reshape(-1, 1).shape[1])), A_1.reshape(-1, 1)))\n",
    "        print(f'{Z_2 = }')\n",
    "        A_2 = activation(Z_2, f_2)  \n",
    "        print(f'{A_2 = }')\n",
    "        \n",
    "        ### Backward pass (Output -> Hidden)\n",
    "        Error = 0.5*(A_2 - y)**2\n",
    "        print(f'\\n{Error = }')\n",
    "        \n",
    "        print('\\n Output -> Hidden')\n",
    "        dE_dw1 = (A_2 - y) * activation(Z_2, f_2, 'B') * x\n",
    "        print(f'{dE_dw1 = }')\n",
    "        \n",
    "        ### Backward pass  (Hidden -> Input)\n",
    "        print('\\n Hidden -> Input')\n",
    "        dE_dw0 = (A_2 - y) * activation(Z_2, f_2, 'B') * (activation(Z_1, f_1, 'B') * x[1:]).reshape(-1, 1) @ W_1\n",
    "        print(f'{dE_dw0 = }')\n",
    "        \n",
    "        ### Update weights\n",
    "        W_1 = W_1 - lr*dE_dw1\n",
    "        print(f'{W_1 = }')\n",
    "        W_0 = W_0 - lr*dE_dw0\n",
    "        print(f'{W_0 = }')"
   ]
  }
 ],
 "metadata": {
  "kernelspec": {
   "display_name": "Python 3 (ipykernel)",
   "language": "python",
   "name": "python3"
  },
  "language_info": {
   "codemirror_mode": {
    "name": "ipython",
    "version": 3
   },
   "file_extension": ".py",
   "mimetype": "text/x-python",
   "name": "python",
   "nbconvert_exporter": "python",
   "pygments_lexer": "ipython3",
   "version": "3.11.5"
  }
 },
 "nbformat": 4,
 "nbformat_minor": 5
}
